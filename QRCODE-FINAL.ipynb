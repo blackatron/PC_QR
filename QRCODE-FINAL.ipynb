{
 "cells": [
  {
   "cell_type": "code",
   "execution_count": 1,
   "metadata": {},
   "outputs": [],
   "source": [
    "import qrcode\n",
    "from PIL import Image\n",
    "import itertools\n",
    "import pandas as pd"
   ]
  },
  {
   "cell_type": "code",
   "execution_count": 2,
   "metadata": {},
   "outputs": [],
   "source": [
    "df = pd.read_excel(\"pc_info\\IRDC-Lab-102-Inventory.xlsx\")\n",
    "Number = df['Serial Number'].tolist()\n",
    "Id = df['Computer ID'].tolist()\n",
    "Logo = Image.open('FUlogo2.jpg')\n",
    "Logo.thumbnail((100,100))\n"
   ]
  },
  {
   "cell_type": "code",
   "execution_count": 3,
   "metadata": {},
   "outputs": [],
   "source": [
    "for i, j in zip(Number, Id):\n",
    "    # Path to the Logo in PNG format\n",
    "  \n",
    "    # The parameters to set for the image/ QR Code image size, border etc.\n",
    "    qr = qrcode.QRCode(\n",
    "    version=1,\n",
    "    error_correction=qrcode.constants.ERROR_CORRECT_H,\n",
    "    box_size=30,\n",
    "    border=4,\n",
    "       ) \n",
    "    # To add the link to the QR Code\n",
    "    qr.add_data(str(j))\n",
    "    qr.make()\n",
    "# You need to convert the image into RGB in order to use it\n",
    "    img_qr_big = qr.make_image().convert('RGB')\n",
    "\n",
    "# Where to place the logo within the QR Code\n",
    "    pos = ((img_qr_big.size[0] - Logo.size[0]) // 2, (img_qr_big.size[1] - Logo.size[1]) // 2)\n",
    "    img_qr_big.paste(Logo, pos)\n",
    "        \n",
    "    # Path where you want to save the Generate QR Code along with the name in a series or the number series\n",
    "    img_qr_big.save(r'C:\\Users\\moham\\OneDrive - University of Nottingham Malaysia Campus\\Future University\\QR\\pc_info\\QR_codes\\IRDC-Lab-102-Inventory\\\\'+str(j)+'.png')    \n"
   ]
  },
  {
   "cell_type": "code",
   "execution_count": 4,
   "metadata": {},
   "outputs": [],
   "source": [
    "df = pd.read_excel(\"pc_info\\IRDC-Lab-104-Inventory.xlsx\",'PC')\n",
    "Number = df['Serial Number'].tolist()\n",
    "Id = df['Computer ID'].tolist()\n",
    "Logo = Image.open('FUlogo2.jpg')\n",
    "Logo.thumbnail((100,100))\n"
   ]
  },
  {
   "cell_type": "code",
   "execution_count": 5,
   "metadata": {},
   "outputs": [],
   "source": [
    "for i, j in zip(Number, Id):\n",
    "    # Path to the Logo in PNG format\n",
    "  \n",
    "    # The parameters to set for the image/ QR Code image size, border etc.\n",
    "    qr = qrcode.QRCode(\n",
    "    version=1,\n",
    "    error_correction=qrcode.constants.ERROR_CORRECT_H,\n",
    "    box_size=30,\n",
    "    border=4,\n",
    "       ) \n",
    "    # To add the link to the QR Code\n",
    "    qr.add_data(str(j))\n",
    "    qr.make()\n",
    "# You need to convert the image into RGB in order to use it\n",
    "    img_qr_big = qr.make_image().convert('RGB')\n",
    "\n",
    "# Where to place the logo within the QR Code\n",
    "    pos = ((img_qr_big.size[0] - Logo.size[0]) // 2, (img_qr_big.size[1] - Logo.size[1]) // 2)\n",
    "    img_qr_big.paste(Logo, pos)\n",
    "        \n",
    "    # Path where you want to save the Generate QR Code along with the name in a series or the number series\n",
    "    img_qr_big.save(r'C:\\Users\\moham\\OneDrive - University of Nottingham Malaysia Campus\\Future University\\QR\\pc_info\\QR_codes\\IRDC-Lab-104-Inventory\\PC\\\\'+str(j)+'.png')    \n"
   ]
  },
  {
   "cell_type": "code",
   "execution_count": 7,
   "metadata": {},
   "outputs": [],
   "source": [
    "df = pd.read_excel(\"pc_info\\IRDC-Lab-104-Inventory.xlsx\",'3D')\n",
    "Number = df['Serial Number'].tolist()\n",
    "Id = df['3D Printer ID'].tolist()\n",
    "Logo = Image.open('FUlogo2.jpg')\n",
    "Logo.thumbnail((100,100))\n"
   ]
  },
  {
   "cell_type": "code",
   "execution_count": 8,
   "metadata": {},
   "outputs": [],
   "source": [
    "for i, j in zip(Number, Id):\n",
    "    # Path to the Logo in PNG format\n",
    "  \n",
    "    # The parameters to set for the image/ QR Code image size, border etc.\n",
    "    qr = qrcode.QRCode(\n",
    "    version=1,\n",
    "    error_correction=qrcode.constants.ERROR_CORRECT_H,\n",
    "    box_size=30,\n",
    "    border=4,\n",
    "       ) \n",
    "    # To add the link to the QR Code\n",
    "    qr.add_data(str(j))\n",
    "    qr.make()\n",
    "# You need to convert the image into RGB in order to use it\n",
    "    img_qr_big = qr.make_image().convert('RGB')\n",
    "\n",
    "# Where to place the logo within the QR Code\n",
    "    pos = ((img_qr_big.size[0] - Logo.size[0]) // 2, (img_qr_big.size[1] - Logo.size[1]) // 2)\n",
    "    img_qr_big.paste(Logo, pos)\n",
    "        \n",
    "    # Path where you want to save the Generate QR Code along with the name in a series or the number series\n",
    "    img_qr_big.save(r'C:\\Users\\moham\\OneDrive - University of Nottingham Malaysia Campus\\Future University\\QR\\pc_info\\QR_codes\\IRDC-Lab-104-Inventory\\3D\\\\'+str(j)+'.png')    \n"
   ]
  },
  {
   "cell_type": "code",
   "execution_count": 9,
   "metadata": {},
   "outputs": [],
   "source": [
    "df = pd.read_excel(\"pc_info\\IRDC-Lab-107-Inventory.xlsx\")\n",
    "Number = df['Serial Number'].tolist()\n",
    "Id = df['Computer ID'].tolist()\n",
    "Logo = Image.open('FUlogo2.jpg')\n",
    "Logo.thumbnail((100,100))\n"
   ]
  },
  {
   "cell_type": "code",
   "execution_count": 10,
   "metadata": {},
   "outputs": [],
   "source": [
    "for i, j in zip(Number, Id):\n",
    "    # Path to the Logo in PNG format\n",
    "  \n",
    "    # The parameters to set for the image/ QR Code image size, border etc.\n",
    "    qr = qrcode.QRCode(\n",
    "    version=1,\n",
    "    error_correction=qrcode.constants.ERROR_CORRECT_H,\n",
    "    box_size=30,\n",
    "    border=4,\n",
    "       ) \n",
    "    # To add the link to the QR Code\n",
    "    qr.add_data(str(j))\n",
    "    qr.make()\n",
    "# You need to convert the image into RGB in order to use it\n",
    "    img_qr_big = qr.make_image().convert('RGB')\n",
    "\n",
    "# Where to place the logo within the QR Code\n",
    "    pos = ((img_qr_big.size[0] - Logo.size[0]) // 2, (img_qr_big.size[1] - Logo.size[1]) // 2)\n",
    "    img_qr_big.paste(Logo, pos)\n",
    "        \n",
    "    # Path where you want to save the Generate QR Code along with the name in a series or the number series\n",
    "    img_qr_big.save(r'C:\\Users\\moham\\OneDrive - University of Nottingham Malaysia Campus\\Future University\\QR\\pc_info\\QR_codes\\IRDC-Lab-107-Inventory\\\\'+str(j)+'.png')    \n"
   ]
  }
 ],
 "metadata": {
  "kernelspec": {
   "display_name": "Python 3",
   "language": "python",
   "name": "python3"
  },
  "language_info": {
   "codemirror_mode": {
    "name": "ipython",
    "version": 3
   },
   "file_extension": ".py",
   "mimetype": "text/x-python",
   "name": "python",
   "nbconvert_exporter": "python",
   "pygments_lexer": "ipython3",
   "version": "3.7.4"
  }
 },
 "nbformat": 4,
 "nbformat_minor": 5
}
